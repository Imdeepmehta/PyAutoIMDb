{
 "cells": [
  {
   "cell_type": "code",
   "execution_count": 9,
   "metadata": {},
   "outputs": [],
   "source": [
    "from requests_html import HTMLSession\n",
    "import json\n",
    "import itertools  "
   ]
  },
  {
   "cell_type": "code",
   "execution_count": 111,
   "metadata": {},
   "outputs": [],
   "source": [
    "session = HTMLSession()"
   ]
  },
  {
   "cell_type": "code",
   "execution_count": 196,
   "metadata": {},
   "outputs": [
    {
     "name": "stdout",
     "output_type": "stream",
     "text": [
      "Enter the movie name:source code\n"
     ]
    }
   ],
   "source": [
    "movieName = input(\"Enter the movie name:\")"
   ]
  },
  {
   "cell_type": "code",
   "execution_count": 197,
   "metadata": {},
   "outputs": [],
   "source": [
    "url_next = 'https://www.imdb.com/find?q='+movieName"
   ]
  },
  {
   "cell_type": "code",
   "execution_count": 198,
   "metadata": {},
   "outputs": [],
   "source": [
    "data = session.get(url_next)"
   ]
  },
  {
   "cell_type": "code",
   "execution_count": 213,
   "metadata": {
    "scrolled": true
   },
   "outputs": [
    {
     "name": "stdout",
     "output_type": "stream",
     "text": [
      "{'https://www.imdb.com/title/tt3944072/?ref_=fn_al_tt_5a', 'https://www.imdb.com/title/tt6098816/?ref_=fn_al_tt_3a', 'https://www.imdb.com/title/tt3957864/?ref_=fn_al_tt_5', 'https://www.imdb.com/title/tt0945513/?ref_=fn_al_tt_1', 'https://www.imdb.com/title/tt4248106/?ref_=fn_al_tt_4', 'https://www.imdb.com/title/tt7176508/?ref_=fn_al_tt_3', 'https://www.imdb.com/title/tt2136662/?ref_=fn_al_tt_2a', 'https://www.imdb.com/title/tt3022784/?ref_=fn_al_tt_2'}\n",
      "https://www.imdb.com/title/tt3944072/?ref_=fn_al_tt_5a\n",
      "Source Code (2011)\n",
      "https://m.media-amazon.com/images/M/MV5BMTY0MTc3MzMzNV5BMl5BanBnXkFtZTcwNDE4MjE0NA@@._V1_UX32_CR0,0,32,44_AL_.jpg\n",
      "https://www.imdb.com/title/tt6098816/?ref_=fn_al_tt_3a\n",
      "Source Code (2010) (TV Episode)\n",
      "https://m.media-amazon.com/images/M/MV5BMTgyMTcyNDE1OF5BMl5BanBnXkFtZTgwODQ2Njk3MDE@._V1_UX32_CR0,0,32,44_AL_.jpg\n",
      "https://www.imdb.com/title/tt3957864/?ref_=fn_al_tt_5\n",
      "- Season 5 | Episode 33\n",
      "https://m.media-amazon.com/images/M/MV5BY2MwNDU3YWQtYjRiNS00NzgyLWEwYTUtOGE4ZWNiYzcwMzY3XkEyXkFqcGdeQXVyNjMxNzQ2NTQ@._V1_UY44_CR6,0,32,44_AL_.jpg\n",
      "https://www.imdb.com/title/tt0945513/?ref_=fn_al_tt_1\n",
      "- Zoom In (2008) (TV Series)\n",
      "https://m.media-amazon.com/images/G/01/imdb/images/nopicture/32x44/film-3119741174._CB468665901_.png\n",
      "https://www.imdb.com/title/tt4248106/?ref_=fn_al_tt_4\n",
      "Source Code (2011) (TV Episode)\n",
      "https://m.media-amazon.com/images/M/MV5BN2JmMjBmYTItOTEyMC00M2E4LTliYzktNGEwNjExNWVlNWNiXkEyXkFqcGdeQXVyNDYyMjg4MTE@._V1_UY44_CR6,0,32,44_AL_.jpg\n",
      "https://www.imdb.com/title/tt7176508/?ref_=fn_al_tt_3\n",
      "hah\n",
      "https://www.imdb.com/title/tt2136662/?ref_=fn_al_tt_2a\n",
      "hah\n",
      "https://www.imdb.com/title/tt3022784/?ref_=fn_al_tt_2\n",
      "hah\n"
     ]
    }
   ],
   "source": [
    "totalMovie = data.html.find(\"table[class='findList']\",first=True).absolute_links\n",
    "print(totalMovie)\n",
    "movie = {}\n",
    "for i,movi in enumerate(totalMovie):\n",
    "    print(movi)\n",
    "    try:\n",
    "        img = data.html.find(\"table[class='findList']\",first=True).find('img')[i].html[10:-3]\n",
    "        print(data.html.find(\"table[class='findList']\")[0].text.split('\\n')[i])\n",
    "        print(img)\n",
    "        movie[movi[27:36]] = img\n",
    "    except:\n",
    "        print(\"hah\")"
   ]
  },
  {
   "cell_type": "code",
   "execution_count": 214,
   "metadata": {},
   "outputs": [
    {
     "data": {
      "text/plain": [
       "{'tt3944072': 'https://m.media-amazon.com/images/M/MV5BMTY0MTc3MzMzNV5BMl5BanBnXkFtZTcwNDE4MjE0NA@@._V1_UX32_CR0,0,32,44_AL_.jpg',\n",
       " 'tt6098816': 'https://m.media-amazon.com/images/M/MV5BMTgyMTcyNDE1OF5BMl5BanBnXkFtZTgwODQ2Njk3MDE@._V1_UX32_CR0,0,32,44_AL_.jpg',\n",
       " 'tt3957864': 'https://m.media-amazon.com/images/M/MV5BY2MwNDU3YWQtYjRiNS00NzgyLWEwYTUtOGE4ZWNiYzcwMzY3XkEyXkFqcGdeQXVyNjMxNzQ2NTQ@._V1_UY44_CR6,0,32,44_AL_.jpg',\n",
       " 'tt0945513': 'https://m.media-amazon.com/images/G/01/imdb/images/nopicture/32x44/film-3119741174._CB468665901_.png',\n",
       " 'tt4248106': 'https://m.media-amazon.com/images/M/MV5BN2JmMjBmYTItOTEyMC00M2E4LTliYzktNGEwNjExNWVlNWNiXkEyXkFqcGdeQXVyNDYyMjg4MTE@._V1_UY44_CR6,0,32,44_AL_.jpg'}"
      ]
     },
     "execution_count": 214,
     "metadata": {},
     "output_type": "execute_result"
    }
   ],
   "source": [
    "movie"
   ]
  },
  {
   "cell_type": "code",
   "execution_count": 200,
   "metadata": {},
   "outputs": [
    {
     "name": "stdout",
     "output_type": "stream",
     "text": [
      "https://www.imdb.com/title/tt3944072/?ref_=fn_al_tt_5a\n",
      "https://m.media-amazon.com/images/M/MV5BMTY0MTc3MzMzNV5BMl5BanBnXkFtZTcwNDE4MjE0NA@@._V1_UX32_CR0,0,32,44_AL_.jpg\n",
      "https://www.imdb.com/title/tt6098816/?ref_=fn_al_tt_3a\n",
      "https://m.media-amazon.com/images/M/MV5BMTgyMTcyNDE1OF5BMl5BanBnXkFtZTgwODQ2Njk3MDE@._V1_UX32_CR0,0,32,44_AL_.jpg\n",
      "https://www.imdb.com/title/tt3957864/?ref_=fn_al_tt_5\n",
      "https://m.media-amazon.com/images/M/MV5BY2MwNDU3YWQtYjRiNS00NzgyLWEwYTUtOGE4ZWNiYzcwMzY3XkEyXkFqcGdeQXVyNjMxNzQ2NTQ@._V1_UY44_CR6,0,32,44_AL_.jpg\n",
      "https://www.imdb.com/title/tt0945513/?ref_=fn_al_tt_1\n",
      "https://m.media-amazon.com/images/G/01/imdb/images/nopicture/32x44/film-3119741174._CB468665901_.png\n",
      "https://www.imdb.com/title/tt4248106/?ref_=fn_al_tt_4\n",
      "https://m.media-amazon.com/images/M/MV5BN2JmMjBmYTItOTEyMC00M2E4LTliYzktNGEwNjExNWVlNWNiXkEyXkFqcGdeQXVyNDYyMjg4MTE@._V1_UY44_CR6,0,32,44_AL_.jpg\n",
      "https://www.imdb.com/title/tt7176508/?ref_=fn_al_tt_3\n"
     ]
    },
    {
     "ename": "IndexError",
     "evalue": "list index out of range",
     "output_type": "error",
     "traceback": [
      "\u001b[0;31m---------------------------------------------------------------------------\u001b[0m",
      "\u001b[0;31mIndexError\u001b[0m                                Traceback (most recent call last)",
      "\u001b[0;32m<ipython-input-200-d3bfff59b908>\u001b[0m in \u001b[0;36m<module>\u001b[0;34m\u001b[0m\n\u001b[1;32m      4\u001b[0m     \u001b[0mprint\u001b[0m\u001b[0;34m(\u001b[0m\u001b[0mmovi\u001b[0m\u001b[0;34m)\u001b[0m\u001b[0;34m\u001b[0m\u001b[0;34m\u001b[0m\u001b[0m\n\u001b[1;32m      5\u001b[0m     \u001b[0mindexMovie\u001b[0m\u001b[0;34m.\u001b[0m\u001b[0mappend\u001b[0m\u001b[0;34m(\u001b[0m\u001b[0mmovi\u001b[0m\u001b[0;34m[\u001b[0m\u001b[0;36m27\u001b[0m\u001b[0;34m:\u001b[0m\u001b[0;36m36\u001b[0m\u001b[0;34m]\u001b[0m\u001b[0;34m)\u001b[0m\u001b[0;34m\u001b[0m\u001b[0;34m\u001b[0m\u001b[0m\n\u001b[0;32m----> 6\u001b[0;31m     \u001b[0mimg\u001b[0m \u001b[0;34m=\u001b[0m \u001b[0mdata\u001b[0m\u001b[0;34m.\u001b[0m\u001b[0mhtml\u001b[0m\u001b[0;34m.\u001b[0m\u001b[0mfind\u001b[0m\u001b[0;34m(\u001b[0m\u001b[0;34m\"table[class='findList']\"\u001b[0m\u001b[0;34m,\u001b[0m\u001b[0mfirst\u001b[0m\u001b[0;34m=\u001b[0m\u001b[0;32mTrue\u001b[0m\u001b[0;34m)\u001b[0m\u001b[0;34m.\u001b[0m\u001b[0mfind\u001b[0m\u001b[0;34m(\u001b[0m\u001b[0;34m'img'\u001b[0m\u001b[0;34m)\u001b[0m\u001b[0;34m[\u001b[0m\u001b[0mi\u001b[0m\u001b[0;34m]\u001b[0m\u001b[0;34m.\u001b[0m\u001b[0mhtml\u001b[0m\u001b[0;34m[\u001b[0m\u001b[0;36m10\u001b[0m\u001b[0;34m:\u001b[0m\u001b[0;34m-\u001b[0m\u001b[0;36m3\u001b[0m\u001b[0;34m]\u001b[0m\u001b[0;34m\u001b[0m\u001b[0;34m\u001b[0m\u001b[0m\n\u001b[0m\u001b[1;32m      7\u001b[0m     \u001b[0mprint\u001b[0m\u001b[0;34m(\u001b[0m\u001b[0mimg\u001b[0m\u001b[0;34m)\u001b[0m\u001b[0;34m\u001b[0m\u001b[0;34m\u001b[0m\u001b[0m\n\u001b[1;32m      8\u001b[0m     \u001b[0mindexMovieImgUrl\u001b[0m\u001b[0;34m.\u001b[0m\u001b[0mappend\u001b[0m\u001b[0;34m(\u001b[0m\u001b[0mimg\u001b[0m\u001b[0;34m)\u001b[0m\u001b[0;34m\u001b[0m\u001b[0;34m\u001b[0m\u001b[0m\n",
      "\u001b[0;31mIndexError\u001b[0m: list index out of range"
     ]
    }
   ],
   "source": [
    "indexMovie = []\n",
    "indexMovieImgUrl = []\n",
    "for i,movi in enumerate(totalMovie):\n",
    "    print(movi)\n",
    "    indexMovie.append(movi[27:36])\n",
    "    img = data.html.find(\"table[class='findList']\",first=True).find('img')[i].html[10:-3]\n",
    "    print(img)\n",
    "    indexMovieImgUrl.append(img)"
   ]
  },
  {
   "cell_type": "code",
   "execution_count": 201,
   "metadata": {},
   "outputs": [
    {
     "data": {
      "text/plain": [
       "['tt3944072', 'tt6098816', 'tt3957864', 'tt0945513', 'tt4248106', 'tt7176508']"
      ]
     },
     "execution_count": 201,
     "metadata": {},
     "output_type": "execute_result"
    }
   ],
   "source": [
    "indexMovie"
   ]
  },
  {
   "cell_type": "code",
   "execution_count": 202,
   "metadata": {},
   "outputs": [
    {
     "data": {
      "text/plain": [
       "['https://m.media-amazon.com/images/M/MV5BMTY0MTc3MzMzNV5BMl5BanBnXkFtZTcwNDE4MjE0NA@@._V1_UX32_CR0,0,32,44_AL_.jpg',\n",
       " 'https://m.media-amazon.com/images/M/MV5BMTgyMTcyNDE1OF5BMl5BanBnXkFtZTgwODQ2Njk3MDE@._V1_UX32_CR0,0,32,44_AL_.jpg',\n",
       " 'https://m.media-amazon.com/images/M/MV5BY2MwNDU3YWQtYjRiNS00NzgyLWEwYTUtOGE4ZWNiYzcwMzY3XkEyXkFqcGdeQXVyNjMxNzQ2NTQ@._V1_UY44_CR6,0,32,44_AL_.jpg',\n",
       " 'https://m.media-amazon.com/images/G/01/imdb/images/nopicture/32x44/film-3119741174._CB468665901_.png',\n",
       " 'https://m.media-amazon.com/images/M/MV5BN2JmMjBmYTItOTEyMC00M2E4LTliYzktNGEwNjExNWVlNWNiXkEyXkFqcGdeQXVyNDYyMjg4MTE@._V1_UY44_CR6,0,32,44_AL_.jpg']"
      ]
     },
     "execution_count": 202,
     "metadata": {},
     "output_type": "execute_result"
    }
   ],
   "source": [
    "indexMovieImgUrl"
   ]
  },
  {
   "cell_type": "code",
   "execution_count": 43,
   "metadata": {},
   "outputs": [
    {
     "data": {
      "text/plain": [
       "'https://m.media-amazon.com/images/M/MV5BNTkyOGVjMGEtNmQzZi00NzFlLTlhOWQtODYyMDc2ZGJmYzFhXkEyXkFqcGdeQXVyNjU0OTQ0OTY@._V1_UX32_CR0,0,32,44_AL_.jpg'"
      ]
     },
     "execution_count": 43,
     "metadata": {},
     "output_type": "execute_result"
    }
   ],
   "source": [
    "movie['tt1187043']"
   ]
  },
  {
   "cell_type": "code",
   "execution_count": 203,
   "metadata": {},
   "outputs": [
    {
     "name": "stdout",
     "output_type": "stream",
     "text": [
      "https://www.imdb.com/title/tt0945513\n"
     ]
    }
   ],
   "source": [
    "finalUrl = 'https://www.imdb.com/title/'+'tt0945513'\n",
    "print(finalUrl)"
   ]
  },
  {
   "cell_type": "code",
   "execution_count": 204,
   "metadata": {},
   "outputs": [
    {
     "name": "stdout",
     "output_type": "stream",
     "text": [
      "<Response [200]>\n"
     ]
    }
   ],
   "source": [
    "movieData = session.get(finalUrl)\n",
    "print(movieData)"
   ]
  },
  {
   "cell_type": "code",
   "execution_count": null,
   "metadata": {},
   "outputs": [],
   "source": []
  },
  {
   "cell_type": "code",
   "execution_count": 205,
   "metadata": {},
   "outputs": [
    {
     "data": {
      "text/plain": [
       "{'@context': 'http://schema.org',\n",
       " '@type': 'Movie',\n",
       " 'url': '/title/tt0945513/',\n",
       " 'name': 'Source Code',\n",
       " 'image': 'https://m.media-amazon.com/images/M/MV5BMTY0MTc3MzMzNV5BMl5BanBnXkFtZTcwNDE4MjE0NA@@._V1_.jpg',\n",
       " 'genre': ['Action', 'Drama', 'Mystery', 'Sci-Fi', 'Thriller'],\n",
       " 'contentRating': 'PG-13',\n",
       " 'actor': [{'@type': 'Person',\n",
       "   'url': '/name/nm0350453/',\n",
       "   'name': 'Jake Gyllenhaal'},\n",
       "  {'@type': 'Person', 'url': '/name/nm1157358/', 'name': 'Michelle Monaghan'},\n",
       "  {'@type': 'Person', 'url': '/name/nm0267812/', 'name': 'Vera Farmiga'},\n",
       "  {'@type': 'Person', 'url': '/name/nm0942482/', 'name': 'Jeffrey Wright'}],\n",
       " 'director': {'@type': 'Person',\n",
       "  'url': '/name/nm1512910/',\n",
       "  'name': 'Duncan Jones'},\n",
       " 'creator': [{'@type': 'Person',\n",
       "   'url': '/name/nm1618286/',\n",
       "   'name': 'Ben Ripley'},\n",
       "  {'@type': 'Organization', 'url': '/company/co0046206/'},\n",
       "  {'@type': 'Organization', 'url': '/company/co0251081/'},\n",
       "  {'@type': 'Organization', 'url': '/company/co0047476/'},\n",
       "  {'@type': 'Organization', 'url': '/company/co0085751/'},\n",
       "  {'@type': 'Organization', 'url': '/company/co0016350/'},\n",
       "  {'@type': 'Organization', 'url': '/company/co0000037/'},\n",
       "  {'@type': 'Organization', 'url': '/company/co0026937/'}],\n",
       " 'description': \"Source Code is a movie starring Jake Gyllenhaal, Michelle Monaghan, and Vera Farmiga. A soldier wakes up in someone else's body and discovers he's part of an experimental government program to find the bomber of a commuter train...\",\n",
       " 'datePublished': '2011-03-31',\n",
       " 'keywords': 'train,time loop,bomber,memory,reliving same event',\n",
       " 'aggregateRating': {'@type': 'AggregateRating',\n",
       "  'ratingCount': 472654,\n",
       "  'bestRating': '10.0',\n",
       "  'worstRating': '1.0',\n",
       "  'ratingValue': '7.5'},\n",
       " 'review': {'@type': 'Review',\n",
       "  'itemReviewed': {'@type': 'CreativeWork', 'url': '/title/tt0945513/'},\n",
       "  'author': {'@type': 'Person', 'name': 'slevinnn'},\n",
       "  'dateCreated': '2011-04-02',\n",
       "  'inLanguage': 'English',\n",
       "  'name': 'Superb!',\n",
       "  'reviewBody': \"What a movie. The price is worth paying. This movie gets straight to the point. You know you see a lot of movies that waste so much time getting into a story. Not this film, virtually from the off, we are there, in the film. It's like there is no beginning, but a middle and an end. Obviously you guys know the storyline so I'll not waste time telling you what it is about, just go and see it. It is a film that keeps you looking, you actually feel like you are 'in the source code' which is fantastic. The only downside to this film is that it feels short, it was 93 minutes but it simply flies by. Maybe that is a good thing? Shows how good this film was!\\n\\nGO CHECK IT OUT!\",\n",
       "  'reviewRating': {'@type': 'Rating',\n",
       "   'worstRating': '1',\n",
       "   'bestRating': '10',\n",
       "   'ratingValue': '10'}},\n",
       " 'duration': 'PT1H33M',\n",
       " 'trailer': {'@type': 'VideoObject',\n",
       "  'name': 'Source Code: Trailer #2',\n",
       "  'embedUrl': '/video/imdb/vi3948911129',\n",
       "  'thumbnail': {'@type': 'ImageObject',\n",
       "   'contentUrl': 'https://m.media-amazon.com/images/M/MV5BMTY2MTQ4Nzg4OF5BMl5BanBnXkFtZTcwMTcxMjQ1NA@@._V1_.jpg'},\n",
       "  'thumbnailUrl': 'https://m.media-amazon.com/images/M/MV5BMTY2MTQ4Nzg4OF5BMl5BanBnXkFtZTcwMTcxMjQ1NA@@._V1_.jpg',\n",
       "  'description': \"An action thriller centered on a soldier who wakes up in the body of an unknown man and discovers he's part of a mission to find the bomber of a Chicago commuter train.\",\n",
       "  'uploadDate': '2011-02-25T16:25:14Z'}}"
      ]
     },
     "execution_count": 205,
     "metadata": {},
     "output_type": "execute_result"
    }
   ],
   "source": [
    "json.loads(movieData.html.find(\"script[type='application/ld+json']\",first=True).text)"
   ]
  },
  {
   "cell_type": "code",
   "execution_count": 61,
   "metadata": {},
   "outputs": [
    {
     "name": "stdout",
     "output_type": "stream",
     "text": [
      "{'@type': 'Person', 'url': '/name/nm0386246/', 'name': 'Rajkumar Hirani'}\n",
      "Rajkumar Hirani\n",
      "{'@type': 'Person', 'url': '/name/nm0430785/', 'name': 'Abhijat Joshi'}\n",
      "Abhijat Joshi\n",
      "{'@type': 'Person', 'url': '/name/nm0006765/', 'name': 'Vidhu Vinod Chopra'}\n",
      "Vidhu Vinod Chopra\n",
      "{'@type': 'Person', 'url': '/name/nm0430785/', 'name': 'Abhijat Joshi'}\n",
      "Abhijat Joshi\n",
      "{'@type': 'Person', 'url': '/name/nm2746459/', 'name': 'Chetan Bhagat'}\n",
      "Chetan Bhagat\n",
      "{'@type': 'Organization', 'url': '/company/co0106826/'}\n",
      "haha\n"
     ]
    }
   ],
   "source": [
    "creator_List = []\n",
    "for j in range(len(jsonResponse['creator'])):\n",
    "    try:\n",
    "        print(jsonResponse['creator'][j])\n",
    "        print(jsonResponse['creator'][j]['name'])\n",
    "    except KeyError:\n",
    "        print('haha')\n",
    "    \n"
   ]
  },
  {
   "cell_type": "code",
   "execution_count": 208,
   "metadata": {},
   "outputs": [
    {
     "name": "stdout",
     "output_type": "stream",
     "text": [
      "haha\n",
      "haha\n",
      "haha\n",
      "haha\n",
      "haha\n",
      "haha\n",
      "haha\n"
     ]
    }
   ],
   "source": [
    "StoryLine = movieData.html.find(\"div[class='inline canwrap']\",first=True).text\n",
    "\n",
    "jsonRaw = movieData.html.find(\"script[type='application/ld+json']\",first=True)\n",
    "jsonResponse = json.loads(jsonRaw.text)\n",
    "\n",
    "actor_List = []\n",
    "for i in range(len(jsonResponse['actor'])):\n",
    "    actor_List.append(jsonResponse['actor'][i]['name'])\n",
    "creator_List = []\n",
    "for j in range(len(jsonResponse['creator'])):\n",
    "    try:\n",
    "#         print(jsonResponse['creator'][j])\n",
    "#         print(jsonResponse['creator'][j]['name'])\n",
    "        creator_List.append(jsonResponse['creator'][j]['name'])\n",
    "    except KeyError:\n",
    "        print('haha')\n",
    "creator_List = list(set(creator_List))\n",
    "videoType = jsonResponse['@type']\n",
    "videoDirector = jsonResponse['director']\n",
    "videoName = jsonResponse['name']\n",
    "videoGenre = jsonResponse['genre']\n",
    "videoActor = actor_List\n",
    "videDescription = jsonResponse['description']\n",
    "videoDatePublished = jsonResponse['datePublished']\n",
    "videRating = jsonResponse['aggregateRating']['ratingValue']\n",
    "\n",
    "summary = movieData.html.find(\"div[class='summary_text']\",first=True).text\n",
    "taglines = movieData.html.find(\"div[class='txt-block']\", first=True).text[10:]\n",
    "runtime = movieData.html.find(\"div[class='txt-block']\",)[-4].text[9:]\n",
    "budget = movieData.html.find(\"div[class='txt-block']\",)[-7].text[8:]"
   ]
  },
  {
   "cell_type": "code",
   "execution_count": 209,
   "metadata": {},
   "outputs": [
    {
     "name": "stdout",
     "output_type": "stream",
     "text": [
      "\n",
      " StoryLine: Army Captain Colter Stevens finds himself working on a special program where his consciousness can be inserted into another human being. The only catch is can only be there for 8 minutes at any given time. That morning, a bomb exploded on a commuter train just outside Chicago. He occupies the body of teacher going to work on that train and is confused as to what he is doing or why he is there as his last memory is of flying his helicopter on a combat mission in Afghanistan. Those in charge of the program explain to him that there is a bomb on the train, and that he must locate it. More importantly, he must identify the bomber as another bombing is expected later that day. He is also told however that he cannot change the past and can only gather information. As he develops a liking for his traveling companion Christina, he sets out to test that theory. Written by garykmcd\n",
      "\n",
      " Summary: A soldier wakes up in someone else's body and discovers he's part of an experimental government program to find the bomber of a commuter train within 8 minutes.\n",
      "\n",
      " Tagline: Make every second count\n",
      "\n",
      " Movie Director :  Duncan Jones\n",
      "\n",
      " Movie Writer :  Ben Ripley\n",
      "\n",
      " Actors: Jake Gyllenhaal,Michelle Monaghan,Vera Farmiga,Jeffrey Wright\n",
      "\n",
      " Video Format: Movie\n",
      "\n",
      " Video Name : Source Code\n",
      "\n",
      " video Genre: ['Action', 'Drama', 'Mystery', 'Sci-Fi', 'Thriller']\n",
      "\n",
      " video Description: Source Code is a movie starring Jake Gyllenhaal, Michelle Monaghan, and Vera Farmiga. A soldier wakes up in someone else's body and discovers he's part of an experimental government program to find the bomber of a commuter train...\n",
      "\n",
      " video Data Published: 2011-03-31\n",
      "\n",
      " video Rating: 7.5\n",
      "\n",
      " runtime: 93 min\n",
      "\n",
      " budget: ve Worldwide Gross:\n",
      "$147,332,697\n"
     ]
    }
   ],
   "source": [
    "print(\"\\n StoryLine:\", StoryLine)\n",
    "print(\"\\n Summary:\", summary)\n",
    "print(\"\\n Tagline:\", taglines)\n",
    "print(\"\\n Movie Director : \", videoDirector['name'])\n",
    "print(\"\\n Movie Writer : \", ','.join(creator_List))\n",
    "print(\"\\n Actors:\", ','.join(videoActor))\n",
    "print(\"\\n Video Format:\", videoType)\n",
    "print(\"\\n Video Name :\", videoName)\n",
    "print(\"\\n video Genre:\", videoGenre)\n",
    "print(\"\\n video Description:\", videDescription)\n",
    "print(\"\\n video Data Published:\", videoDatePublished)\n",
    "print(\"\\n video Rating:\", videRating)\n",
    "print(\"\\n runtime:\", runtime)\n",
    "print(\"\\n budget:\", budget)"
   ]
  },
  {
   "cell_type": "code",
   "execution_count": 107,
   "metadata": {},
   "outputs": [
    {
     "data": {
      "text/plain": [
       "'170 min'"
      ]
     },
     "execution_count": 107,
     "metadata": {},
     "output_type": "execute_result"
    }
   ],
   "source": [
    "movieData.html.find(\"div[class='txt-block']\",)[0].text\n",
    "movieData.html.find(\"div[class='txt-block']\",)[-4].text[9:]\n",
    "# movieData.html.find(\"div[class='txt-block']\",)[-10].text[8:]\n",
    "\n",
    "#\n",
    "# movieData.html.find(\"div[class='txt-block']\",)[2].textmovieData.html.find(\"div[class='txt-block']\",)[2].text"
   ]
  },
  {
   "cell_type": "code",
   "execution_count": 73,
   "metadata": {},
   "outputs": [
    {
     "ename": "TypeError",
     "evalue": "argument should be integer or bytes-like object, not 'str'",
     "output_type": "error",
     "traceback": [
      "\u001b[0;31m---------------------------------------------------------------------------\u001b[0m",
      "\u001b[0;31mTypeError\u001b[0m                                 Traceback (most recent call last)",
      "\u001b[0;32m<ipython-input-73-55a13e51c574>\u001b[0m in \u001b[0;36m<module>\u001b[0;34m\u001b[0m\n\u001b[0;32m----> 1\u001b[0;31m \u001b[0mprint\u001b[0m\u001b[0;34m(\u001b[0m\u001b[0mdetail\u001b[0m\u001b[0;34m.\u001b[0m\u001b[0mraw_html\u001b[0m\u001b[0;34m.\u001b[0m\u001b[0mfind\u001b[0m\u001b[0;34m(\u001b[0m\u001b[0;34m'h4'\u001b[0m\u001b[0;34m)\u001b[0m\u001b[0;34m)\u001b[0m\u001b[0;34m\u001b[0m\u001b[0;34m\u001b[0m\u001b[0m\n\u001b[0m",
      "\u001b[0;31mTypeError\u001b[0m: argument should be integer or bytes-like object, not 'str'"
     ]
    }
   ],
   "source": []
  },
  {
   "cell_type": "code",
   "execution_count": null,
   "metadata": {},
   "outputs": [],
   "source": []
  },
  {
   "cell_type": "code",
   "execution_count": null,
   "metadata": {},
   "outputs": [],
   "source": []
  },
  {
   "cell_type": "code",
   "execution_count": null,
   "metadata": {},
   "outputs": [],
   "source": [
    "next_data = session.get(url_next)"
   ]
  },
  {
   "cell_type": "code",
   "execution_count": null,
   "metadata": {},
   "outputs": [],
   "source": [
    "a = list(next_data.html.find(\"table[class='findList']\",first=True).absolute_links)[0]\n",
    "print(a)\n",
    "print(a[27:36])"
   ]
  },
  {
   "cell_type": "code",
   "execution_count": null,
   "metadata": {},
   "outputs": [],
   "source": []
  },
  {
   "cell_type": "code",
   "execution_count": null,
   "metadata": {},
   "outputs": [],
   "source": []
  },
  {
   "cell_type": "code",
   "execution_count": 6,
   "metadata": {},
   "outputs": [
    {
     "name": "stdout",
     "output_type": "stream",
     "text": [
      "{\"id\":\"0c8e7be7-1e8c-4b40-b6d6-f5e934c2e9e6\",\"softselectorwarning\":false,\"status\":0,\"altterm\":\"\",\"alttermh\":\"\"}\n",
      "\n"
     ]
    }
   ],
   "source": [
    "import requests\n",
    "\n",
    "headers = {\n",
    "    'User-Agent': 'Mozilla/5.0 (X11; Linux x86_64; rv:68.0) Gecko/20100101 Firefox/68.0',\n",
    "    'Accept': '*/*',\n",
    "    'Accept-Language': 'en-US,en;q=0.5',\n",
    "#     'Referer': 'https://phonebook.cz/',\n",
    "    'Content-Type': 'application/x-www-form-urlencoded; charset=UTF-8',\n",
    "#     'Origin': 'https://phonebook.cz',\n",
    "    'DNT': '1',\n",
    "    'Connection': 'keep-alive',\n",
    "}\n",
    "\n",
    "params = (\n",
    "    ('k', 'ac572eea-3902-4e9a-972d-f5996d76174c'),\n",
    ")\n",
    "\n",
    "data = '{\"term\":\"*.gov.in\",\"maxresults\":10000,\"target\":1}'\n",
    "\n",
    "response = requests.post('https://public.intelx.io/phonebook/search', headers=headers, params=params, data=data)\n",
    "print(response.text)\n",
    "#NB. Original query string below. It seems impossible to parse and\n",
    "#reproduce query strings 100% accurately so the one below is given\n",
    "#in case the reproduced version is not \"correct\".\n",
    "# response = requests.post('https://public.intelx.io/phonebook/search?k=ac572eea-3902-4e9a-972d-f5996d76174c', headers=headers, data=data)\n"
   ]
  },
  {
   "cell_type": "code",
   "execution_count": 136,
   "metadata": {},
   "outputs": [],
   "source": [
    "hey = {}"
   ]
  },
  {
   "cell_type": "code",
   "execution_count": 143,
   "metadata": {},
   "outputs": [],
   "source": [
    "hey['name'] = \"deep\",\"mehta\"\n",
    "hey['age'] = \"mast\""
   ]
  },
  {
   "cell_type": "code",
   "execution_count": 186,
   "metadata": {},
   "outputs": [
    {
     "ename": "TypeError",
     "evalue": "'builtin_function_or_method' object is not iterable",
     "output_type": "error",
     "traceback": [
      "\u001b[0;31m---------------------------------------------------------------------------\u001b[0m",
      "\u001b[0;31mTypeError\u001b[0m                                 Traceback (most recent call last)",
      "\u001b[0;32m<ipython-input-186-4f999715c653>\u001b[0m in \u001b[0;36m<module>\u001b[0;34m\u001b[0m\n\u001b[0;32m----> 1\u001b[0;31m \u001b[0;32mfor\u001b[0m \u001b[0mi\u001b[0m \u001b[0;32min\u001b[0m \u001b[0mhey\u001b[0m\u001b[0;34m.\u001b[0m\u001b[0mitems\u001b[0m\u001b[0;34m:\u001b[0m\u001b[0;34m\u001b[0m\u001b[0;34m\u001b[0m\u001b[0m\n\u001b[0m\u001b[1;32m      2\u001b[0m     \u001b[0mprint\u001b[0m\u001b[0;34m(\u001b[0m\u001b[0mi\u001b[0m\u001b[0;34m)\u001b[0m\u001b[0;34m\u001b[0m\u001b[0;34m\u001b[0m\u001b[0m\n",
      "\u001b[0;31mTypeError\u001b[0m: 'builtin_function_or_method' object is not iterable"
     ]
    }
   ],
   "source": [
    "for i in hey.items:\n",
    "    print(i)\n"
   ]
  },
  {
   "cell_type": "code",
   "execution_count": 157,
   "metadata": {},
   "outputs": [
    {
     "name": "stdout",
     "output_type": "stream",
     "text": [
      "3 Idiots (2009)\n"
     ]
    }
   ],
   "source": [
    "print(data.html.find(\"table[class='findList']\",first=True).find('td')[1].text)\n"
   ]
  },
  {
   "cell_type": "code",
   "execution_count": 167,
   "metadata": {},
   "outputs": [
    {
     "name": "stdout",
     "output_type": "stream",
     "text": [
      "3 Idiots (2009)\n"
     ]
    }
   ],
   "source": [
    "print(data.html.find(\"table[class='findList']\")[0].find('td')[1].text)\n"
   ]
  },
  {
   "cell_type": "code",
   "execution_count": 168,
   "metadata": {},
   "outputs": [
    {
     "name": "stdout",
     "output_type": "stream",
     "text": [
      "3 Idiots (2009)\n"
     ]
    }
   ],
   "source": [
    "print(data.html.find(\"table[class='findList']\")[0].find('td')[1].text)\n"
   ]
  },
  {
   "cell_type": "code",
   "execution_count": 178,
   "metadata": {},
   "outputs": [
    {
     "data": {
      "text/plain": [
       "'3 Idiots (2009)'"
      ]
     },
     "execution_count": 178,
     "metadata": {},
     "output_type": "execute_result"
    }
   ],
   "source": [
    "data.html.find(\"table[class='findList']\")[0].text.split('\\n')[0]\n"
   ]
  },
  {
   "cell_type": "code",
   "execution_count": null,
   "metadata": {},
   "outputs": [],
   "source": []
  }
 ],
 "metadata": {
  "kernelspec": {
   "display_name": "Python 3",
   "language": "python",
   "name": "python3"
  },
  "language_info": {
   "codemirror_mode": {
    "name": "ipython",
    "version": 3
   },
   "file_extension": ".py",
   "mimetype": "text/x-python",
   "name": "python",
   "nbconvert_exporter": "python",
   "pygments_lexer": "ipython3",
   "version": "3.8.2"
  }
 },
 "nbformat": 4,
 "nbformat_minor": 4
}
